{
  "nbformat": 4,
  "nbformat_minor": 0,
  "metadata": {
    "colab": {
      "name": "Flowers_Recognition.ipynb",
      "provenance": [],
      "collapsed_sections": []
    },
    "kernelspec": {
      "name": "python390jvsc74a57bd04657b0f8676137db8f77784ecc505075a6d6f547c0bf96eb839d3f8b887897c4",
      "display_name": "Python 3.9.0 64-bit"
    }
  },
  "cells": [
    {
      "cell_type": "markdown",
      "metadata": {
        "id": "BXgJ6uT1NydQ"
      },
      "source": [
        "Assignment: Flowers Recognition <br>\n",
        "Dataset Description:<br>\n",
        "\n",
        "This dataset contains 4242 images of flowers.<br>\n",
        "The data collection is based on the data flicr, google images, yandex images.<br>\n",
        "You can use this datastet to recognize plants from the photo.<br>\n",
        "\n",
        "Attribute Information:<br>\n",
        "The pictures are divided into five classes: chamomile, tulip, rose, sunflower, dandelion.<br>\n",
        "For each class there are about 800 photos. Photos are not high resolution, about 320x240 pixels. <br>\n",
        "<b>Also explore how to resize images in tensorflow and then resize all the images to a same size. </b> <br>\n",
        "This is a Multiclass Classification Problem.<br>\n",
        "\n",
        "\n"
      ]
    },
    {
      "cell_type": "markdown",
      "metadata": {
        "id": "T7vy-ktuOKJH"
      },
      "source": [
        "WORKFLOW : <br>\n",
        "Load Data <br>\n",
        "Split into 60 and 40 ratio.<br>\n",
        "Encode labels.<br>\n",
        "Create Model<br>\n",
        "Compilation Step (Note : Its a Multiclass Classification problem , select loss , metrics according to it)<br>\n",
        "Train the Model.<br>\n",
        "If the model gets overfit tune your model by changing the units , No. of layers , epochs , add dropout layer or add Regularizer according to the need .<br>\n",
        "Prediction should be > 85%<br>\n",
        "Evaluation Step<br>\n",
        "Prediction<br>\n",
        "\n",
        "\n"
      ]
    },
    {
      "cell_type": "markdown",
      "metadata": {
        "id": "ri3Bg5qfPRic"
      },
      "source": [
        "Data : <br>\n",
        "https://drive.google.com/file/d/1-OX6wn5gA-bJpjPNfSyaYQLz-A-AB_uj/view?usp=sharing"
      ]
    },
    {
      "cell_type": "code",
      "metadata": {
        "id": "hTtg3WuGTA1o"
      },
      "source": [
        "import cv2\n",
        "import glob\n",
        "import numpy as np \n",
        "import pandas as pd \n",
        "import tensorflow as tf \n",
        "from keras.utils import to_categorical\n",
        "from tensorflow.keras import layers, models, optimizers, Sequential"
      ],
      "execution_count": null,
      "outputs": []
    },
    {
      "cell_type": "code",
      "metadata": {
        "colab": {
          "base_uri": "https://localhost:8080/"
        },
        "id": "aeWMy7aGhrKq",
        "outputId": "60cea649-a069-4bdd-9a15-63662c9d6bd7"
      },
      "source": [
        "from google.colab import drive\n",
        "drive.mount('/content/drive')"
      ],
      "execution_count": null,
      "outputs": [
        {
          "output_type": "stream",
          "text": [
            "Mounted at /content/drive\n"
          ],
          "name": "stdout"
        }
      ]
    },
    {
      "cell_type": "code",
      "metadata": {
        "id": "1JDxvasUadkJ",
        "colab": {
          "base_uri": "https://localhost:8080/"
        },
        "outputId": "c9cb9cc1-e330-42c8-cae0-0ce6b2a033c8"
      },
      "source": [
        "cd /content/drive/MyDrive/Assignment3_DL/flowers"
      ],
      "execution_count": null,
      "outputs": [
        {
          "output_type": "stream",
          "text": [
            "/content/drive/MyDrive/Assignment3_DL/flowers\n"
          ],
          "name": "stdout"
        }
      ]
    },
    {
      "cell_type": "code",
      "metadata": {
        "id": "u34K9Rs0adkK"
      },
      "source": [
        "# Defining function\n",
        "\n",
        "flowers = ['./daisy', './dandelion', './rose', './sunflower', './tulip']\n",
        "length = []\n",
        "\n",
        "def read_image(directory):\n",
        "    for img in glob.glob(directory+'/*.jpg'):\n",
        "        image = cv2.imread(img)\n",
        "        image = cv2.cvtColor(image, cv2.COLOR_RGB2GRAY)\n",
        "        resized_img = cv2.resize(image/255.0, (100,100))\n",
        "        yield resized_img\n"
      ],
      "execution_count": null,
      "outputs": []
    },
    {
      "cell_type": "code",
      "metadata": {
        "id": "PO3rVl2MadkK",
        "colab": {
          "base_uri": "https://localhost:8080/"
        },
        "outputId": "718c9a03-d9b3-4fc2-c1ef-1bf059ecd202"
      },
      "source": [
        "for x in flowers:\n",
        "    print(x)\n",
        "    y = np.array(list(read_image(x)))\n",
        "    if x == './daisy':\n",
        "        data = y  \n",
        "    else:\n",
        "        data = np.vstack((data, y))\n",
        "    length.append(len(y))\n",
        "\n",
        "data.shape, length"
      ],
      "execution_count": null,
      "outputs": [
        {
          "output_type": "stream",
          "text": [
            "./daisy\n",
            "./dandelion\n",
            "./rose\n",
            "./sunflower\n",
            "./tulip\n"
          ],
          "name": "stdout"
        },
        {
          "output_type": "execute_result",
          "data": {
            "text/plain": [
              "((4324, 100, 100), [769, 1052, 785, 734, 984])"
            ]
          },
          "metadata": {
            "tags": []
          },
          "execution_count": 5
        }
      ]
    },
    {
      "cell_type": "code",
      "metadata": {
        "id": "Ac6fgkT3adkL"
      },
      "source": [
        "data = data.reshape((4324,100*100))\n",
        "data = data.astype('float32')"
      ],
      "execution_count": null,
      "outputs": []
    },
    {
      "cell_type": "code",
      "metadata": {
        "id": "PmMoXte3Yrjl"
      },
      "source": [
        "data1 = pd.DataFrame(data)"
      ],
      "execution_count": null,
      "outputs": []
    },
    {
      "cell_type": "code",
      "metadata": {
        "id": "XFWk0_-wadkL",
        "colab": {
          "base_uri": "https://localhost:8080/"
        },
        "outputId": "3be5d5d7-357c-419c-98f6-b1bc9278df92"
      },
      "source": [
        "i = 1\n",
        "targets = np.ones((length[0], 1))*0\n",
        "for x in length[1:]:\n",
        "    targets = np.vstack((targets, np.ones((x , 1)) * i))\n",
        "    i += 1\n",
        "\n",
        "targets"
      ],
      "execution_count": null,
      "outputs": [
        {
          "output_type": "execute_result",
          "data": {
            "text/plain": [
              "array([[0.],\n",
              "       [0.],\n",
              "       [0.],\n",
              "       ...,\n",
              "       [4.],\n",
              "       [4.],\n",
              "       [4.]])"
            ]
          },
          "metadata": {
            "tags": []
          },
          "execution_count": 7
        }
      ]
    },
    {
      "cell_type": "code",
      "metadata": {
        "id": "vFLRiYOtadkM",
        "colab": {
          "base_uri": "https://localhost:8080/"
        },
        "outputId": "a57dcf31-9b93-4b18-92d8-90eec721e61b"
      },
      "source": [
        "targets.shape"
      ],
      "execution_count": null,
      "outputs": [
        {
          "output_type": "execute_result",
          "data": {
            "text/plain": [
              "(4324, 1)"
            ]
          },
          "metadata": {
            "tags": []
          },
          "execution_count": 8
        }
      ]
    },
    {
      "cell_type": "code",
      "metadata": {
        "id": "BEYY8ay2adkM",
        "colab": {
          "base_uri": "https://localhost:8080/"
        },
        "outputId": "bcab6f0a-d32a-4086-8be5-8700faf3a18c"
      },
      "source": [
        "(targets == 0).sum(), (targets == 1).sum(), (targets == 2).sum(), (targets == 3).sum(), (targets == 4).sum()"
      ],
      "execution_count": null,
      "outputs": [
        {
          "output_type": "execute_result",
          "data": {
            "text/plain": [
              "(769, 1052, 785, 734, 984)"
            ]
          },
          "metadata": {
            "tags": []
          },
          "execution_count": 9
        }
      ]
    },
    {
      "cell_type": "code",
      "metadata": {
        "id": "SJRcZxPTadkN"
      },
      "source": [
        "# train_images = train_data.reshape((2607,100*100))\n",
        "# train_images = train_images.astype('float32')\n",
        "# test_images = test_data.reshape((1717,100*100))\n",
        "# test_images = test_images.astype('float32')\n",
        "\n",
        "# train_images, test_images"
      ],
      "execution_count": null,
      "outputs": []
    },
    {
      "cell_type": "code",
      "metadata": {
        "id": "dMeu-i9iuFAV"
      },
      "source": [],
      "execution_count": null,
      "outputs": []
    },
    {
      "cell_type": "code",
      "metadata": {
        "id": "RW2kzJe2adkM"
      },
      "source": [
        "np.random.seed(111)\n",
        "mask = np.random.rand(len(data)) < 0.6\n",
        "train_data = data1[mask]\n",
        "test_data = data1[~mask]\n",
        "train_targets = targets[mask]\n",
        "test_targets = targets[~mask]"
      ],
      "execution_count": null,
      "outputs": []
    },
    {
      "cell_type": "code",
      "metadata": {
        "id": "EJSHq9tsadkN",
        "colab": {
          "base_uri": "https://localhost:8080/"
        },
        "outputId": "f109883b-d020-4622-df47-6f9f64d6852b"
      },
      "source": [
        "train_data.shape, test_data.shape, train_targets.shape, test_targets.shape"
      ],
      "execution_count": null,
      "outputs": [
        {
          "output_type": "execute_result",
          "data": {
            "text/plain": [
              "((2607, 10000), (1717, 10000), (2607, 1), (1717, 1))"
            ]
          },
          "metadata": {
            "tags": []
          },
          "execution_count": 18
        }
      ]
    },
    {
      "cell_type": "code",
      "metadata": {
        "id": "VNbVE1nKZt_q"
      },
      "source": [
        "train_targets = to_categorical(train_targets)\n",
        "test_targets = to_categorical(test_targets)"
      ],
      "execution_count": null,
      "outputs": []
    },
    {
      "cell_type": "code",
      "metadata": {
        "id": "Ct9MbOLhZtyC"
      },
      "source": [],
      "execution_count": null,
      "outputs": []
    },
    {
      "cell_type": "code",
      "metadata": {
        "id": "6YoltuNKadkN"
      },
      "source": [
        "model = models.Sequential()\n",
        "model.add(layers.Dense(64, activation='relu', input_shape=(100*100,)))\n",
        "model.add(layers.Dense(64, activation='relu'))\n",
        "model.add(layers.Dense(5, activation='softmax'))\n",
        "model.compile(optimizer='rmsprop', loss='categorical_crossentropy', metrics=['accuracy'])"
      ],
      "execution_count": null,
      "outputs": []
    },
    {
      "cell_type": "code",
      "metadata": {
        "id": "i7W-62W-adkO",
        "colab": {
          "base_uri": "https://localhost:8080/"
        },
        "outputId": "8a0066e0-9f57-454d-9dc8-16d18cab0155"
      },
      "source": [
        "model.fit(train_data, train_targets, epochs = 100, batch_size = 100)"
      ],
      "execution_count": null,
      "outputs": [
        {
          "output_type": "stream",
          "text": [
            "Epoch 1/100\n",
            "27/27 [==============================] - 0s 14ms/step - loss: 1.5533 - accuracy: 0.2881\n",
            "Epoch 2/100\n",
            "27/27 [==============================] - 0s 16ms/step - loss: 1.5471 - accuracy: 0.3034\n",
            "Epoch 3/100\n",
            "27/27 [==============================] - 0s 15ms/step - loss: 1.5297 - accuracy: 0.2988\n",
            "Epoch 4/100\n",
            "27/27 [==============================] - 0s 15ms/step - loss: 1.5309 - accuracy: 0.3157\n",
            "Epoch 5/100\n",
            "27/27 [==============================] - 0s 14ms/step - loss: 1.5142 - accuracy: 0.3237\n",
            "Epoch 6/100\n",
            "27/27 [==============================] - 0s 15ms/step - loss: 1.4854 - accuracy: 0.3318\n",
            "Epoch 7/100\n",
            "27/27 [==============================] - 0s 15ms/step - loss: 1.4978 - accuracy: 0.3168\n",
            "Epoch 8/100\n",
            "27/27 [==============================] - 0s 15ms/step - loss: 1.5013 - accuracy: 0.3130\n",
            "Epoch 9/100\n",
            "27/27 [==============================] - 0s 15ms/step - loss: 1.4787 - accuracy: 0.3314\n",
            "Epoch 10/100\n",
            "27/27 [==============================] - 0s 15ms/step - loss: 1.4774 - accuracy: 0.3491\n",
            "Epoch 11/100\n",
            "27/27 [==============================] - 0s 16ms/step - loss: 1.4608 - accuracy: 0.3552\n",
            "Epoch 12/100\n",
            "27/27 [==============================] - 0s 16ms/step - loss: 1.4561 - accuracy: 0.3452\n",
            "Epoch 13/100\n",
            "27/27 [==============================] - 0s 14ms/step - loss: 1.4603 - accuracy: 0.3617\n",
            "Epoch 14/100\n",
            "27/27 [==============================] - 0s 15ms/step - loss: 1.4356 - accuracy: 0.3782\n",
            "Epoch 15/100\n",
            "27/27 [==============================] - 0s 15ms/step - loss: 1.4358 - accuracy: 0.3629\n",
            "Epoch 16/100\n",
            "27/27 [==============================] - 0s 15ms/step - loss: 1.4312 - accuracy: 0.3874\n",
            "Epoch 17/100\n",
            "27/27 [==============================] - 0s 16ms/step - loss: 1.4229 - accuracy: 0.3782\n",
            "Epoch 18/100\n",
            "27/27 [==============================] - 0s 15ms/step - loss: 1.4048 - accuracy: 0.3847\n",
            "Epoch 19/100\n",
            "27/27 [==============================] - 0s 14ms/step - loss: 1.3852 - accuracy: 0.3897\n",
            "Epoch 20/100\n",
            "27/27 [==============================] - 0s 15ms/step - loss: 1.4097 - accuracy: 0.3897\n",
            "Epoch 21/100\n",
            "27/27 [==============================] - 0s 15ms/step - loss: 1.3940 - accuracy: 0.4016\n",
            "Epoch 22/100\n",
            "27/27 [==============================] - 0s 15ms/step - loss: 1.3889 - accuracy: 0.3962\n",
            "Epoch 23/100\n",
            "27/27 [==============================] - 0s 15ms/step - loss: 1.3637 - accuracy: 0.4212\n",
            "Epoch 24/100\n",
            "27/27 [==============================] - 0s 15ms/step - loss: 1.3773 - accuracy: 0.4047\n",
            "Epoch 25/100\n",
            "27/27 [==============================] - 0s 14ms/step - loss: 1.3554 - accuracy: 0.4319\n",
            "Epoch 26/100\n",
            "27/27 [==============================] - 0s 14ms/step - loss: 1.3677 - accuracy: 0.4189\n",
            "Epoch 27/100\n",
            "27/27 [==============================] - 0s 16ms/step - loss: 1.3715 - accuracy: 0.4085\n",
            "Epoch 28/100\n",
            "27/27 [==============================] - 0s 15ms/step - loss: 1.3393 - accuracy: 0.4404\n",
            "Epoch 29/100\n",
            "27/27 [==============================] - 0s 15ms/step - loss: 1.3405 - accuracy: 0.4304\n",
            "Epoch 30/100\n",
            "27/27 [==============================] - 0s 15ms/step - loss: 1.3243 - accuracy: 0.4357\n",
            "Epoch 31/100\n",
            "27/27 [==============================] - 0s 15ms/step - loss: 1.3242 - accuracy: 0.4281\n",
            "Epoch 32/100\n",
            "27/27 [==============================] - 0s 15ms/step - loss: 1.3227 - accuracy: 0.4419\n",
            "Epoch 33/100\n",
            "27/27 [==============================] - 0s 15ms/step - loss: 1.3167 - accuracy: 0.4469\n",
            "Epoch 34/100\n",
            "27/27 [==============================] - 0s 16ms/step - loss: 1.3162 - accuracy: 0.4461\n",
            "Epoch 35/100\n",
            "27/27 [==============================] - 0s 15ms/step - loss: 1.2963 - accuracy: 0.4580\n",
            "Epoch 36/100\n",
            "27/27 [==============================] - 0s 15ms/step - loss: 1.2847 - accuracy: 0.4568\n",
            "Epoch 37/100\n",
            "27/27 [==============================] - 0s 15ms/step - loss: 1.2938 - accuracy: 0.4480\n",
            "Epoch 38/100\n",
            "27/27 [==============================] - 0s 15ms/step - loss: 1.2557 - accuracy: 0.4848\n",
            "Epoch 39/100\n",
            "27/27 [==============================] - 0s 15ms/step - loss: 1.3110 - accuracy: 0.4549\n",
            "Epoch 40/100\n",
            "27/27 [==============================] - 0s 14ms/step - loss: 1.2691 - accuracy: 0.4691\n",
            "Epoch 41/100\n",
            "27/27 [==============================] - 0s 15ms/step - loss: 1.2731 - accuracy: 0.4718\n",
            "Epoch 42/100\n",
            "27/27 [==============================] - 0s 14ms/step - loss: 1.2473 - accuracy: 0.4776\n",
            "Epoch 43/100\n",
            "27/27 [==============================] - 0s 15ms/step - loss: 1.3107 - accuracy: 0.4622\n",
            "Epoch 44/100\n",
            "27/27 [==============================] - 0s 15ms/step - loss: 1.2537 - accuracy: 0.4726\n",
            "Epoch 45/100\n",
            "27/27 [==============================] - 0s 14ms/step - loss: 1.2232 - accuracy: 0.4971\n",
            "Epoch 46/100\n",
            "27/27 [==============================] - 0s 16ms/step - loss: 1.2726 - accuracy: 0.4664\n",
            "Epoch 47/100\n",
            "27/27 [==============================] - 0s 15ms/step - loss: 1.2311 - accuracy: 0.4956\n",
            "Epoch 48/100\n",
            "27/27 [==============================] - 0s 15ms/step - loss: 1.2563 - accuracy: 0.4787\n",
            "Epoch 49/100\n",
            "27/27 [==============================] - 0s 14ms/step - loss: 1.2353 - accuracy: 0.4944\n",
            "Epoch 50/100\n",
            "27/27 [==============================] - 0s 14ms/step - loss: 1.2622 - accuracy: 0.4760\n",
            "Epoch 51/100\n",
            "27/27 [==============================] - 0s 14ms/step - loss: 1.2115 - accuracy: 0.4998\n",
            "Epoch 52/100\n",
            "27/27 [==============================] - 0s 14ms/step - loss: 1.2016 - accuracy: 0.5090\n",
            "Epoch 53/100\n",
            "27/27 [==============================] - 0s 16ms/step - loss: 1.2110 - accuracy: 0.5090\n",
            "Epoch 54/100\n",
            "27/27 [==============================] - 0s 14ms/step - loss: 1.2277 - accuracy: 0.5052\n",
            "Epoch 55/100\n",
            "27/27 [==============================] - 0s 14ms/step - loss: 1.1964 - accuracy: 0.5082\n",
            "Epoch 56/100\n",
            "27/27 [==============================] - 0s 15ms/step - loss: 1.2246 - accuracy: 0.4956\n",
            "Epoch 57/100\n",
            "27/27 [==============================] - 0s 14ms/step - loss: 1.1465 - accuracy: 0.5297\n",
            "Epoch 58/100\n",
            "27/27 [==============================] - 0s 15ms/step - loss: 1.1863 - accuracy: 0.5217\n",
            "Epoch 59/100\n",
            "27/27 [==============================] - 0s 15ms/step - loss: 1.1743 - accuracy: 0.5267\n",
            "Epoch 60/100\n",
            "27/27 [==============================] - 0s 15ms/step - loss: 1.1663 - accuracy: 0.5240\n",
            "Epoch 61/100\n",
            "27/27 [==============================] - 0s 16ms/step - loss: 1.1588 - accuracy: 0.5267\n",
            "Epoch 62/100\n",
            "27/27 [==============================] - 0s 15ms/step - loss: 1.1787 - accuracy: 0.5351\n",
            "Epoch 63/100\n",
            "27/27 [==============================] - 0s 14ms/step - loss: 1.1560 - accuracy: 0.5282\n",
            "Epoch 64/100\n",
            "27/27 [==============================] - 0s 15ms/step - loss: 1.2096 - accuracy: 0.5163\n",
            "Epoch 65/100\n",
            "27/27 [==============================] - 0s 15ms/step - loss: 1.1801 - accuracy: 0.5389\n",
            "Epoch 66/100\n",
            "27/27 [==============================] - 0s 15ms/step - loss: 1.1820 - accuracy: 0.5247\n",
            "Epoch 67/100\n",
            "27/27 [==============================] - 0s 14ms/step - loss: 1.1572 - accuracy: 0.5336\n",
            "Epoch 68/100\n",
            "27/27 [==============================] - 0s 15ms/step - loss: 1.0857 - accuracy: 0.5566\n",
            "Epoch 69/100\n",
            "27/27 [==============================] - 0s 15ms/step - loss: 1.1526 - accuracy: 0.5328\n",
            "Epoch 70/100\n",
            "27/27 [==============================] - 0s 15ms/step - loss: 1.1171 - accuracy: 0.5324\n",
            "Epoch 71/100\n",
            "27/27 [==============================] - 0s 15ms/step - loss: 1.1365 - accuracy: 0.5316\n",
            "Epoch 72/100\n",
            "27/27 [==============================] - 0s 14ms/step - loss: 1.1058 - accuracy: 0.5566\n",
            "Epoch 73/100\n",
            "27/27 [==============================] - 0s 15ms/step - loss: 1.1701 - accuracy: 0.5270\n",
            "Epoch 74/100\n",
            "27/27 [==============================] - 0s 15ms/step - loss: 1.0684 - accuracy: 0.5792\n",
            "Epoch 75/100\n",
            "27/27 [==============================] - 0s 15ms/step - loss: 1.1311 - accuracy: 0.5416\n",
            "Epoch 76/100\n",
            "27/27 [==============================] - 0s 15ms/step - loss: 1.1145 - accuracy: 0.5409\n",
            "Epoch 77/100\n",
            "27/27 [==============================] - 0s 15ms/step - loss: 1.1197 - accuracy: 0.5366\n",
            "Epoch 78/100\n",
            "27/27 [==============================] - 0s 15ms/step - loss: 1.1053 - accuracy: 0.5704\n",
            "Epoch 79/100\n",
            "27/27 [==============================] - 0s 17ms/step - loss: 1.0915 - accuracy: 0.5562\n",
            "Epoch 80/100\n",
            "27/27 [==============================] - 0s 15ms/step - loss: 1.0667 - accuracy: 0.5677\n",
            "Epoch 81/100\n",
            "27/27 [==============================] - 0s 15ms/step - loss: 1.1058 - accuracy: 0.5485\n",
            "Epoch 82/100\n",
            "27/27 [==============================] - 0s 15ms/step - loss: 1.1213 - accuracy: 0.5508\n",
            "Epoch 83/100\n",
            "27/27 [==============================] - 0s 15ms/step - loss: 1.0432 - accuracy: 0.5715\n",
            "Epoch 84/100\n",
            "27/27 [==============================] - 0s 15ms/step - loss: 1.0765 - accuracy: 0.5623\n",
            "Epoch 85/100\n",
            "27/27 [==============================] - 0s 15ms/step - loss: 1.0941 - accuracy: 0.5627\n",
            "Epoch 86/100\n",
            "27/27 [==============================] - 0s 15ms/step - loss: 1.0432 - accuracy: 0.5838\n",
            "Epoch 87/100\n",
            "27/27 [==============================] - 0s 15ms/step - loss: 1.0646 - accuracy: 0.5738\n",
            "Epoch 88/100\n",
            "27/27 [==============================] - 0s 15ms/step - loss: 1.1173 - accuracy: 0.5573\n",
            "Epoch 89/100\n",
            "27/27 [==============================] - 0s 15ms/step - loss: 1.0716 - accuracy: 0.5804\n",
            "Epoch 90/100\n",
            "27/27 [==============================] - 0s 15ms/step - loss: 1.0660 - accuracy: 0.5639\n",
            "Epoch 91/100\n",
            "27/27 [==============================] - 0s 15ms/step - loss: 1.0479 - accuracy: 0.5727\n",
            "Epoch 92/100\n",
            "27/27 [==============================] - 0s 15ms/step - loss: 1.1139 - accuracy: 0.5662\n",
            "Epoch 93/100\n",
            "27/27 [==============================] - 0s 16ms/step - loss: 1.0440 - accuracy: 0.5834\n",
            "Epoch 94/100\n",
            "27/27 [==============================] - 0s 15ms/step - loss: 1.0265 - accuracy: 0.5777\n",
            "Epoch 95/100\n",
            "27/27 [==============================] - 0s 15ms/step - loss: 1.0237 - accuracy: 0.5942\n",
            "Epoch 96/100\n",
            "27/27 [==============================] - 0s 15ms/step - loss: 1.1081 - accuracy: 0.5616\n",
            "Epoch 97/100\n",
            "27/27 [==============================] - 0s 15ms/step - loss: 1.0319 - accuracy: 0.6018\n",
            "Epoch 98/100\n",
            "27/27 [==============================] - 0s 15ms/step - loss: 1.1152 - accuracy: 0.5980\n",
            "Epoch 99/100\n",
            "27/27 [==============================] - 0s 15ms/step - loss: 1.0440 - accuracy: 0.5892\n",
            "Epoch 100/100\n",
            "27/27 [==============================] - 0s 15ms/step - loss: 1.0188 - accuracy: 0.5842\n"
          ],
          "name": "stdout"
        },
        {
          "output_type": "execute_result",
          "data": {
            "text/plain": [
              "<tensorflow.python.keras.callbacks.History at 0x7fe970ffca10>"
            ]
          },
          "metadata": {
            "tags": []
          },
          "execution_count": 27
        }
      ]
    },
    {
      "cell_type": "code",
      "metadata": {
        "id": "caNGsa3_adkO",
        "colab": {
          "base_uri": "https://localhost:8080/"
        },
        "outputId": "a66253a8-eddf-44e4-e95a-3bb7c96c0302"
      },
      "source": [
        "model.evaluate(test_data, test_targets)"
      ],
      "execution_count": null,
      "outputs": [
        {
          "output_type": "stream",
          "text": [
            "54/54 [==============================] - 0s 3ms/step - loss: 2.2506 - accuracy: 0.2667\n"
          ],
          "name": "stdout"
        },
        {
          "output_type": "execute_result",
          "data": {
            "text/plain": [
              "[2.2505509853363037, 0.26674431562423706]"
            ]
          },
          "metadata": {
            "tags": []
          },
          "execution_count": 30
        }
      ]
    },
    {
      "cell_type": "code",
      "metadata": {
        "id": "JZHB7iX-adkO",
        "colab": {
          "base_uri": "https://localhost:8080/"
        },
        "outputId": "7b74e3e5-1782-45fa-90ae-bad53ff7f94f"
      },
      "source": [
        "with tf.device('/device:GPU:0'):\n",
        "  result = model.fit(train_data, train_targets, epochs = 5, batch_size = 100)"
      ],
      "execution_count": null,
      "outputs": [
        {
          "output_type": "stream",
          "text": [
            "Epoch 1/5\n",
            "27/27 [==============================] - 0s 15ms/step - loss: 0.9666 - accuracy: 0.6214\n",
            "Epoch 2/5\n",
            "27/27 [==============================] - 0s 15ms/step - loss: 1.0514 - accuracy: 0.6076\n",
            "Epoch 3/5\n",
            "27/27 [==============================] - 0s 15ms/step - loss: 1.0316 - accuracy: 0.5919\n",
            "Epoch 4/5\n",
            "27/27 [==============================] - 0s 15ms/step - loss: 0.9781 - accuracy: 0.6260\n",
            "Epoch 5/5\n",
            "27/27 [==============================] - 0s 15ms/step - loss: 0.9939 - accuracy: 0.5999\n"
          ],
          "name": "stdout"
        }
      ]
    },
    {
      "cell_type": "code",
      "metadata": {
        "id": "vRg03p5OadkP",
        "colab": {
          "base_uri": "https://localhost:8080/"
        },
        "outputId": "1dae36cc-7b4f-4971-e603-761b31286f6d"
      },
      "source": [
        "from tensorflow.python.client import device_lib \n",
        "print(device_lib.list_local_devices())"
      ],
      "execution_count": null,
      "outputs": [
        {
          "output_type": "stream",
          "text": [
            "[name: \"/device:CPU:0\"\n",
            "device_type: \"CPU\"\n",
            "memory_limit: 268435456\n",
            "locality {\n",
            "}\n",
            "incarnation: 9305859799119030664\n",
            "]\n"
          ],
          "name": "stdout"
        }
      ]
    },
    {
      "cell_type": "code",
      "metadata": {
        "id": "ckOzJDeradkP"
      },
      "source": [],
      "execution_count": null,
      "outputs": []
    }
  ]
}